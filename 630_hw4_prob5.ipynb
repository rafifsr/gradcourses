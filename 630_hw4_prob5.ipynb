{
 "cells": [
  {
   "cell_type": "code",
   "execution_count": 55,
   "id": "abc0fac2",
   "metadata": {},
   "outputs": [
    {
     "data": {
      "text/plain": [
       "3×3 Matrix{Int64}:\n",
       "  2  5  1\n",
       " -1  1  3\n",
       "  3  0  4"
      ]
     },
     "metadata": {},
     "output_type": "display_data"
    }
   ],
   "source": [
    "using LinearAlgebra\n",
    "\n",
    "# Problem 4\n",
    "M = [2 5 1;\n",
    "     -1 1 3;\n",
    "     3 0 4]"
   ]
  },
  {
   "cell_type": "code",
   "execution_count": 56,
   "id": "f7708f59",
   "metadata": {},
   "outputs": [
    {
     "data": {
      "text/plain": [
       "3×3 adjoint(::Matrix{Int64}) with eltype Int64:\n",
       " 2  -1  3\n",
       " 5   1  0\n",
       " 1   3  4"
      ]
     },
     "metadata": {},
     "output_type": "display_data"
    }
   ],
   "source": [
    "M_T = M'"
   ]
  },
  {
   "cell_type": "code",
   "execution_count": 57,
   "id": "46b4ebdf",
   "metadata": {},
   "outputs": [
    {
     "data": {
      "text/plain": [
       "3-element Vector{ComplexF64}:\n",
       " 0.38272559780771487 - 3.3288554009364555im\n",
       " 0.38272559780771487 + 3.3288554009364555im\n",
       "    6.23454880438457 + 0.0im"
      ]
     },
     "metadata": {},
     "output_type": "display_data"
    }
   ],
   "source": [
    "eigenvalues = eigvals(M)"
   ]
  },
  {
   "cell_type": "code",
   "execution_count": 58,
   "id": "32cf3cbb",
   "metadata": {},
   "outputs": [
    {
     "data": {
      "text/plain": [
       "3-element Vector{ComplexF64}:\n",
       " 0.3827255978077151 - 3.3288554009364524im\n",
       " 0.3827255978077151 + 3.3288554009364524im\n",
       "  6.234548804384569 + 0.0im"
      ]
     },
     "metadata": {},
     "output_type": "display_data"
    }
   ],
   "source": [
    "eigenvalues_T = eigvals(M_T)"
   ]
  },
  {
   "cell_type": "code",
   "execution_count": 59,
   "id": "367d5447",
   "metadata": {},
   "outputs": [
    {
     "data": {
      "text/plain": [
       "3×3 Matrix{ComplexF64}:\n",
       " -0.70939-0.0im       -0.70939+0.0im       -0.564603+0.0im\n",
       " 0.165745+0.530922im  0.165745-0.530922im  -0.326566+0.0im\n",
       " 0.318554-0.293155im  0.318554+0.293155im  -0.758009+0.0im"
      ]
     },
     "metadata": {},
     "output_type": "display_data"
    }
   ],
   "source": [
    "# Show orthogonality of eigenvectors of M\n",
    "eigenvectors = eigvecs(M)"
   ]
  },
  {
   "cell_type": "code",
   "execution_count": 60,
   "id": "22819c6c",
   "metadata": {},
   "outputs": [
    {
     "name": "stdout",
     "output_type": "stream",
     "text": [
      "Dot product of eigenvector 1 and eigenvector 2 (M): 0.2643638638376701 + 0.010776563453668838im\n",
      "Dot product of eigenvector 1 and eigenvector 3 (M): 0.10492971856942372 - 0.04883309330565821im\n",
      "Dot product of eigenvector 2 and eigenvector 3 (M): 0.10492971856942372 + 0.04883309330565821im\n"
     ]
    }
   ],
   "source": [
    "# for loop to check orthogonality\n",
    "for i in 1:size(eigenvectors, 2)\n",
    "    for j in i+1:size(eigenvectors, 2)\n",
    "        dot_product = dot(eigenvectors[:, i], eigenvectors[:, j])\n",
    "        println(\"Dot product of eigenvector $i and eigenvector $j (M): $dot_product\")\n",
    "    end\n",
    "end"
   ]
  },
  {
   "cell_type": "code",
   "execution_count": 61,
   "id": "05f56263",
   "metadata": {},
   "outputs": [
    {
     "data": {
      "text/plain": [
       "3×3 Matrix{ComplexF64}:\n",
       "   0.09153+0.493606im    0.09153-0.493606im  0.451524+0.0im\n",
       " -0.741405-0.0im       -0.741405+0.0im       0.431292+0.0im\n",
       "  0.251236-0.367662im   0.251236+0.367662im  0.781097+0.0im"
      ]
     },
     "metadata": {},
     "output_type": "display_data"
    }
   ],
   "source": [
    "# Show orthogonality of eigenvectors of M_T\n",
    "eigenvectors_T = eigvecs(M_T)"
   ]
  },
  {
   "cell_type": "code",
   "execution_count": 62,
   "id": "1138b021",
   "metadata": {},
   "outputs": [
    {
     "name": "stdout",
     "output_type": "stream",
     "text": [
      "Dot product of eigenvector 1 and eigenvector 2 (M_T): 0.24235608447162116 + 0.09438048058545355im\n",
      "Dot product of eigenvector 1 and eigenvector 3 (M_T): -0.08219407723334071 + 0.06430506243217204im\n",
      "Dot product of eigenvector 2 and eigenvector 3 (M_T): -0.08219407723334071 - 0.06430506243217204im\n"
     ]
    }
   ],
   "source": [
    "# for loop to check orthogonality\n",
    "for i in 1:size(eigenvectors, 2)\n",
    "    for j in i+1:size(eigenvectors, 2)\n",
    "        dot_product = dot(eigenvectors_T[:, i], eigenvectors_T[:, j])\n",
    "        println(\"Dot product of eigenvector $i and eigenvector $j (M_T): $dot_product\")\n",
    "    end\n",
    "end"
   ]
  },
  {
   "cell_type": "code",
   "execution_count": 63,
   "id": "b9484138",
   "metadata": {},
   "outputs": [
    {
     "data": {
      "text/plain": [
       "3×3 Matrix{ComplexF64}:\n",
       "   0.09153-0.493606im    0.09153+0.493606im  0.451524-0.0im\n",
       " -0.741405+0.0im       -0.741405-0.0im       0.431292-0.0im\n",
       "  0.251236+0.367662im   0.251236-0.367662im  0.781097-0.0im"
      ]
     },
     "metadata": {},
     "output_type": "display_data"
    }
   ],
   "source": [
    "# Complex conjugate of eigenvectors of M_T\n",
    "eigenvectors_T_conj = conj.(eigenvectors_T)"
   ]
  },
  {
   "cell_type": "code",
   "execution_count": 64,
   "id": "615d7e57",
   "metadata": {},
   "outputs": [
    {
     "name": "stdout",
     "output_type": "stream",
     "text": [
      "Dot product of eigenvector 1 (M) and eigenvector 1 (M_T): -0.21556383147387603 - 0.9345583227624646im\n",
      "Dot product of eigenvector 1 (M) and eigenvector 2 (M_T): 1.9835597499340001e-16 + 1.2998728155195704e-16im\n",
      "Dot product of eigenvector 1 (M) and eigenvector 3 (M_T): -1.504288061498418e-16 + 2.3782935219096345e-17im\n",
      "Dot product of eigenvector 2 (M) and eigenvector 1 (M_T): 1.9835597499340001e-16 - 1.2998728155195704e-16im\n",
      "Dot product of eigenvector 2 (M) and eigenvector 2 (M_T): -0.21556383147387603 + 0.9345583227624646im\n",
      "Dot product of eigenvector 2 (M) and eigenvector 3 (M_T): -1.504288061498418e-16 - 2.3782935219096345e-17im\n",
      "Dot product of eigenvector 3 (M) and eigenvector 1 (M_T): 3.517803946513412e-17 - 8.354748313383794e-17im\n",
      "Dot product of eigenvector 3 (M) and eigenvector 2 (M_T): 3.517803946513412e-17 + 8.354748313383794e-17im\n",
      "Dot product of eigenvector 3 (M) and eigenvector 3 (M_T): -0.9878562445572501 + 0.0im\n"
     ]
    }
   ],
   "source": [
    "for i in 1:size(eigenvectors_T, 2)\n",
    "    for j in 1:size(eigenvectors_T, 2)\n",
    "        dot_product = dot(eigenvectors_T_conj[:, i], eigenvectors[:, j])\n",
    "        println(\"Dot product of eigenvector $i (M) and eigenvector $j (M_T): $dot_product\")\n",
    "    end\n",
    "end"
   ]
  }
 ],
 "metadata": {
  "kernelspec": {
   "display_name": "Julia 1.11.5",
   "language": "julia",
   "name": "julia-1.11"
  },
  "language_info": {
   "file_extension": ".jl",
   "mimetype": "application/julia",
   "name": "julia",
   "version": "1.11.5"
  }
 },
 "nbformat": 4,
 "nbformat_minor": 5
}
