{
 "cells": [
  {
   "cell_type": "code",
   "execution_count": 1,
   "id": "4447272c",
   "metadata": {},
   "outputs": [
    {
     "data": {
      "text/plain": [
       "4×7 Matrix{Int64}:\n",
       "  2  7  2   0   0   3   1\n",
       "  1  3  0   2   2   3   2\n",
       " -3  5  0   2   0  -3   4\n",
       "  1  4  2  -2  -2   0  -1"
      ]
     },
     "metadata": {},
     "output_type": "display_data"
    }
   ],
   "source": [
    "using LinearAlgebra\n",
    "\n",
    "A = [2 7 2 0 0 3 1;\n",
    "     1 3 0 2 2 3 2;\n",
    "    -3 5 0 2 0 -3 4;\n",
    "     1 4 2 -2 -2 0 -1]"
   ]
  },
  {
   "cell_type": "code",
   "execution_count": 7,
   "id": "908f429b",
   "metadata": {},
   "outputs": [
    {
     "data": {
      "text/plain": [
       "4×4 Matrix{Float64}:\n",
       "  1.0       0.0        0.0  0.0\n",
       " -0.666667  1.0        0.0  0.0\n",
       " -0.333333  0.451613   1.0  0.0\n",
       " -0.333333  0.548387  -1.0  1.0"
      ]
     },
     "metadata": {},
     "output_type": "display_data"
    }
   ],
   "source": [
    "L, U = lu(A).L, lu(A).U\n",
    "L"
   ]
  },
  {
   "cell_type": "code",
   "execution_count": 8,
   "id": "b52c467e",
   "metadata": {},
   "outputs": [
    {
     "data": {
      "text/plain": [
       "4×7 Matrix{Float64}:\n",
       " -3.0   5.0      0.0        2.0          …  -3.0           4.0\n",
       "  0.0  10.3333   2.0        1.33333          1.0           3.66667\n",
       "  0.0   0.0     -0.903226   2.06452          1.54839       1.67742\n",
       "  0.0   0.0      0.0       -1.13171e-15     -5.15717e-16  -9.99201e-16"
      ]
     },
     "metadata": {},
     "output_type": "display_data"
    }
   ],
   "source": [
    "U"
   ]
  }
 ],
 "metadata": {
  "kernelspec": {
   "display_name": "Julia 1.11.5",
   "language": "julia",
   "name": "julia-1.11"
  },
  "language_info": {
   "file_extension": ".jl",
   "mimetype": "application/julia",
   "name": "julia",
   "version": "1.11.5"
  }
 },
 "nbformat": 4,
 "nbformat_minor": 5
}
