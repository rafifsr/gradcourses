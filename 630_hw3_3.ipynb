{
 "cells": [
  {
   "cell_type": "code",
   "execution_count": 1,
   "id": "4447272c",
   "metadata": {},
   "outputs": [
    {
     "data": {
      "text/plain": [
       "4×7 Matrix{Int64}:\n",
       "  2  7  2   0   0   3   1\n",
       "  1  3  0   2   2   3   2\n",
       " -3  5  0   2   0  -3   4\n",
       "  1  4  2  -2  -2   0  -1"
      ]
     },
     "metadata": {},
     "output_type": "display_data"
    }
   ],
   "source": [
    "using LinearAlgebra\n",
    "\n",
    "A = [2 7 2 0 0 3 1;\n",
    "     1 3 0 2 2 3 2;\n",
    "    -3 5 0 2 0 -3 4;\n",
    "     1 4 2 -2 -2 0 -1]"
   ]
  },
  {
   "cell_type": "code",
   "execution_count": 2,
   "id": "908f429b",
   "metadata": {},
   "outputs": [
    {
     "data": {
      "text/plain": [
       "4×4 Matrix{Float64}:\n",
       "  1.0       0.0        0.0  0.0\n",
       " -0.666667  1.0        0.0  0.0\n",
       " -0.333333  0.451613   1.0  0.0\n",
       " -0.333333  0.548387  -1.0  1.0"
      ]
     },
     "metadata": {},
     "output_type": "display_data"
    }
   ],
   "source": [
    "L, U = lu(A).L, lu(A).U\n",
    "L"
   ]
  },
  {
   "cell_type": "code",
   "execution_count": 3,
   "id": "b52c467e",
   "metadata": {},
   "outputs": [
    {
     "data": {
      "text/plain": [
       "4×7 Matrix{Float64}:\n",
       " -3.0   5.0      0.0        2.0          …  -3.0           4.0\n",
       "  0.0  10.3333   2.0        1.33333          1.0           3.66667\n",
       "  0.0   0.0     -0.903226   2.06452          1.54839       1.67742\n",
       "  0.0   0.0      0.0       -1.13171e-15     -5.15717e-16  -9.99201e-16"
      ]
     },
     "metadata": {},
     "output_type": "display_data"
    }
   ],
   "source": [
    "U"
   ]
  },
  {
   "cell_type": "code",
   "execution_count": 4,
   "id": "50de7bb4",
   "metadata": {},
   "outputs": [
    {
     "data": {
      "text/plain": [
       "4×3 Matrix{Float64}:\n",
       "  1.0       0.0        0.0\n",
       " -0.666667  1.0        0.0\n",
       " -0.333333  0.451613   1.0\n",
       " -0.333333  0.548387  -1.0"
      ]
     },
     "metadata": {},
     "output_type": "display_data"
    }
   ],
   "source": [
    "# Reduced L and U matrices\n",
    "Lr = L[:, 1:rank(A)]\n",
    "Ur = U[1:rank(A), :]\n",
    "Lr"
   ]
  },
  {
   "cell_type": "code",
   "execution_count": 5,
   "id": "deb7820b",
   "metadata": {},
   "outputs": [
    {
     "data": {
      "text/plain": [
       "3×7 Matrix{Float64}:\n",
       " -3.0   5.0      0.0       2.0      0.0  -3.0      4.0\n",
       "  0.0  10.3333   2.0       1.33333  0.0   1.0      3.66667\n",
       "  0.0   0.0     -0.903226  2.06452  2.0   1.54839  1.67742"
      ]
     },
     "metadata": {},
     "output_type": "display_data"
    }
   ],
   "source": [
    "Ur"
   ]
  },
  {
   "cell_type": "code",
   "execution_count": 6,
   "id": "39a4db0f",
   "metadata": {},
   "outputs": [
    {
     "data": {
      "text/plain": [
       "7×4 Matrix{Float64}:\n",
       "  0.0363108    0.0246914   -0.0689906    0.0116195\n",
       "  0.0583394    0.00411523   0.0484144    0.0542242\n",
       "  0.0225127   -0.0246914   -0.00944081   0.0472041\n",
       " -0.00774631   0.0658436    0.0295328   -0.0735899\n",
       "  0.00108932   0.0740741   -0.00762527  -0.0729847\n",
       "  0.0486565    0.0864198   -0.0813362   -0.0377633\n",
       " -0.00532559   0.0452675    0.0619705   -0.0505931"
      ]
     },
     "metadata": {},
     "output_type": "display_data"
    }
   ],
   "source": [
    "# Pseudo-inverse of A\n",
    "A_pinv = pinv(A)\n",
    "A_pinv"
   ]
  },
  {
   "cell_type": "code",
   "execution_count": 9,
   "id": "bc69f296",
   "metadata": {},
   "outputs": [
    {
     "data": {
      "text/plain": [
       "4×7 Matrix{Float64}:\n",
       "  2.0  7.0   2.0          -7.77156e-16  -8.88178e-16   3.0           1.0\n",
       "  1.0  3.0  -7.77156e-16   2.0           2.0           3.0           2.0\n",
       " -3.0  5.0  -6.93889e-16   2.0           1.4988e-15   -3.0           4.0\n",
       "  1.0  4.0   2.0          -2.0          -2.0          -2.31759e-15  -1.0"
      ]
     },
     "metadata": {},
     "output_type": "display_data"
    }
   ],
   "source": [
    "A*A_pinv*A"
   ]
  },
  {
   "cell_type": "code",
   "execution_count": 10,
   "id": "b859e3b9",
   "metadata": {},
   "outputs": [
    {
     "data": {
      "text/plain": [
       "7×4 Matrix{Float64}:\n",
       " -0.821933    0.0332021  -0.0344895  -0.0789286\n",
       "  0.0690677   0.0998854   0.0486378  -0.321243\n",
       "  0.0852862   0.0927729  -0.650221    0.649537\n",
       " -0.103962   -0.468214   -0.599607   -0.269269\n",
       "  0.0777563   0.818813   -0.158735   -0.0646876\n",
       "  0.4375     -0.289413    0.217551    0.168131\n",
       " -0.322679   -0.082908    0.376303    0.603089"
      ]
     },
     "metadata": {},
     "output_type": "display_data"
    }
   ],
   "source": [
    "b = [1, 0, 0, 0]\n",
    "\n",
    "# Nullspace of A\n",
    "N = nullspace(A)\n",
    "N"
   ]
  },
  {
   "cell_type": "code",
   "execution_count": 13,
   "id": "9e99e435",
   "metadata": {},
   "outputs": [
    {
     "data": {
      "text/plain": [
       "4-element Vector{Float64}:\n",
       "  0.6666666666666665\n",
       "  0.3333333333333334\n",
       " -2.7755575615628914e-17\n",
       "  0.3333333333333331"
      ]
     },
     "metadata": {},
     "output_type": "display_data"
    }
   ],
   "source": [
    "b̂ = A*A_pinv*b # projection of b onto the column space of A"
   ]
  },
  {
   "cell_type": "code",
   "execution_count": 17,
   "id": "92e49d9f",
   "metadata": {},
   "outputs": [
    {
     "data": {
      "text/plain": [
       "4-element Vector{Float64}:\n",
       "  0.3333333333333335\n",
       " -0.3333333333333334\n",
       "  2.7755575615628914e-17\n",
       " -0.3333333333333331"
      ]
     },
     "metadata": {},
     "output_type": "display_data"
    }
   ],
   "source": [
    "res = b - b̂ # residual vector"
   ]
  },
  {
   "cell_type": "code",
   "execution_count": 18,
   "id": "43bf6501",
   "metadata": {},
   "outputs": [
    {
     "data": {
      "text/plain": [
       "7-element Vector{Float64}:\n",
       "  1.5371787431793104e-17\n",
       "  1.998242431506054e-17\n",
       "  1.482430601523441e-17\n",
       " -1.0763040225515139e-17\n",
       " -9.460982792001322e-18\n",
       "  1.5202241413050766e-17\n",
       " -8.70063276202432e-18"
      ]
     },
     "metadata": {},
     "output_type": "display_data"
    }
   ],
   "source": [
    "A_pinv*res"
   ]
  },
  {
   "cell_type": "code",
   "execution_count": 22,
   "id": "4c82b09f",
   "metadata": {},
   "outputs": [
    {
     "data": {
      "text/plain": [
       "7-element Vector{Float64}:\n",
       "  0.03631082062454613\n",
       "  0.058339385136770734\n",
       "  0.02251270878721857\n",
       " -0.007746308399903149\n",
       "  0.0010893246187363992\n",
       "  0.048656499636891795\n",
       " -0.005325587024933409"
      ]
     },
     "metadata": {},
     "output_type": "display_data"
    }
   ],
   "source": [
    "# one least squares solution\n",
    "x_ls = A_pinv*b"
   ]
  }
 ],
 "metadata": {
  "kernelspec": {
   "display_name": "Julia 1.11.5",
   "language": "julia",
   "name": "julia-1.11"
  },
  "language_info": {
   "file_extension": ".jl",
   "mimetype": "application/julia",
   "name": "julia",
   "version": "1.11.5"
  }
 },
 "nbformat": 4,
 "nbformat_minor": 5
}
