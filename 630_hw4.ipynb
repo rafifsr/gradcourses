{
 "cells": [
  {
   "cell_type": "code",
   "execution_count": 26,
   "id": "f88486af",
   "metadata": {},
   "outputs": [
    {
     "data": {
      "text/plain": [
       "4×4 Matrix{Complex{Int64}}:\n",
       "  2+0im   3+1im   1+0im  -3+0im\n",
       "  3-1im   1+0im  -5-2im   0+2im\n",
       "  1+0im  -5-2im   2+0im  -2+0im\n",
       " -3+0im   0-2im  -2+0im  -3+0im"
      ]
     },
     "metadata": {},
     "output_type": "display_data"
    }
   ],
   "source": [
    "using LinearAlgebra\n",
    "\n",
    "M = [2 3+im 1 -3; 3-im 1 -5-(2*im) (2*im); 1 -5-(2*im) 2 -2; -3 -(2*im) -2 -3]"
   ]
  },
  {
   "cell_type": "code",
   "execution_count": 27,
   "id": "d37598b2",
   "metadata": {},
   "outputs": [
    {
     "data": {
      "text/plain": [
       "4×4 Matrix{Complex{Int64}}:\n",
       "  2+0im   3+1im   1+0im  -3+0im\n",
       "  3-1im   1+0im  -5+2im   0+2im\n",
       "  1+0im  -5+2im   2+0im  -2+0im\n",
       " -3+0im   0-2im  -2+0im  -3+0im"
      ]
     },
     "metadata": {},
     "output_type": "display_data"
    }
   ],
   "source": [
    "# Complex conjugate transpose of M\n",
    "\n",
    "M_conj_trans = copy(M)\n",
    "\n",
    "for i in 1:4\n",
    "    for j in 1:4\n",
    "        M_conj_trans[i,j] = conj(M[j,i])\n",
    "    end\n",
    "end\n",
    "\n",
    "M_conj_trans"
   ]
  },
  {
   "cell_type": "code",
   "execution_count": 28,
   "id": "5e408a74",
   "metadata": {},
   "outputs": [
    {
     "data": {
      "text/plain": [
       "4-element Vector{ComplexF64}:\n",
       " -5.359981380223615 - 0.8881457409055221im\n",
       " -4.325505357273712 - 0.741443276571322im\n",
       "  4.361436457983973 - 0.03282459605358637im\n",
       "  7.324050279513358 + 1.6624136135304348im"
      ]
     },
     "metadata": {},
     "output_type": "display_data"
    }
   ],
   "source": [
    "# Check if M is Hermitian from its eigenvalues\n",
    "\n",
    "eigvals(M)"
   ]
  },
  {
   "cell_type": "code",
   "execution_count": 29,
   "id": "b91185b9",
   "metadata": {},
   "outputs": [
    {
     "data": {
      "text/plain": [
       "false"
      ]
     },
     "metadata": {},
     "output_type": "display_data"
    }
   ],
   "source": [
    "# Check if M is Hermitian\n",
    "\n",
    "M == M_conj_trans"
   ]
  },
  {
   "cell_type": "code",
   "execution_count": 30,
   "id": "7f6abbd8",
   "metadata": {},
   "outputs": [
    {
     "data": {
      "text/plain": [
       "false"
      ]
     },
     "metadata": {},
     "output_type": "display_data"
    }
   ],
   "source": [
    "# Check if M is skew Hermitian\n",
    "\n",
    "M_conj_trans == -M"
   ]
  },
  {
   "cell_type": "code",
   "execution_count": null,
   "id": "2e585028",
   "metadata": {},
   "outputs": [
    {
     "data": {
      "text/plain": [
       "false"
      ]
     },
     "metadata": {},
     "output_type": "display_data"
    }
   ],
   "source": [
    "# Check if M is unitary\n",
    "\n",
    "M_conj_trans * M == I(4)"
   ]
  },
  {
   "cell_type": "markdown",
   "id": "cd7ab582",
   "metadata": {},
   "source": [
    "### Verdict\n",
    "M is not Hermitian, $M^H \\neq M$, the eigenvalues of $M$ are also complex.\n",
    "\n",
    "M is also not skew-Hermitian, $M^H \\neq -M$.\n",
    "\n",
    "M is also not unitary, $M^H M \\neq 1$."
   ]
  }
 ],
 "metadata": {
  "kernelspec": {
   "display_name": "Julia 1.11.5",
   "language": "julia",
   "name": "julia-1.11"
  },
  "language_info": {
   "file_extension": ".jl",
   "mimetype": "application/julia",
   "name": "julia",
   "version": "1.11.5"
  }
 },
 "nbformat": 4,
 "nbformat_minor": 5
}
