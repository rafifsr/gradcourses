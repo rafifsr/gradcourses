{
 "cells": [
  {
   "cell_type": "code",
   "execution_count": 14,
   "id": "f88486af",
   "metadata": {},
   "outputs": [
    {
     "data": {
      "text/plain": [
       "3×3 Matrix{Int64}:\n",
       "  2  5  1\n",
       " -1  1  3\n",
       "  3  0  4"
      ]
     },
     "metadata": {},
     "output_type": "display_data"
    }
   ],
   "source": [
    "using LinearAlgebra, DataFrames\n",
    "\n",
    "# Problem 1\n",
    "# M = [2 3+im 1 -3;\n",
    "#      3-im 1 -5-(2*im) 2*im;\n",
    "#      1 -5-(2*im) 2 -2;\n",
    "#      -3 -(2*im) -2 -3]\n",
    "\n",
    "# Problem 2\n",
    "# M = [2*im 2 1-2*im -5*im;\n",
    "#      -2 -3*im 2+im 0;\n",
    "#      -1-2*im -2+im 0 -5;\n",
    "#      -5*im 0 5 -4*im]\n",
    "\n",
    "# Problem 3\n",
    "# M = [2 2 5;\n",
    "#      -1 1 3;\n",
    "#      5 0 -2]\n",
    "\n",
    "# Problem 4\n",
    "M = [2 5 1;\n",
    "     -1 1 3;\n",
    "     3 0 4]"
   ]
  },
  {
   "cell_type": "code",
   "execution_count": 15,
   "id": "d37598b2",
   "metadata": {},
   "outputs": [
    {
     "name": "stdout",
     "output_type": "stream",
     "text": [
      "\u001b[1m3×3 DataFrame\u001b[0m\n",
      "\u001b[1m Row \u001b[0m│\u001b[1m x1    \u001b[0m\u001b[1m x2    \u001b[0m\u001b[1m x3    \u001b[0m\n",
      "     │\u001b[90m Int64 \u001b[0m\u001b[90m Int64 \u001b[0m\u001b[90m Int64 \u001b[0m\n",
      "─────┼─────────────────────\n",
      "   1 │     2     -1      3\n",
      "   2 │     5      1      0\n",
      "   3 │     1      3      4"
     ]
    }
   ],
   "source": [
    "# Complex conjugate transpose of M\n",
    "M_H = copy(M)\n",
    "\n",
    "function complex_conjugate_transpose(M)\n",
    "    M_H = copy(M)\n",
    "    for i in 1:size(M, 1)\n",
    "        for j in 1:size(M, 2)\n",
    "            M_H[i, j] = conj(M[j, i])\n",
    "        end\n",
    "    end\n",
    "    return M_H\n",
    "end\n",
    "\n",
    "M_H = complex_conjugate_transpose(M)\n",
    "\n",
    "# Show M_H as a dataframe\n",
    "M_H_df = DataFrame(M_H, :auto)\n",
    "show(M_H_df, allrows=true, allcols=true)"
   ]
  },
  {
   "cell_type": "code",
   "execution_count": 16,
   "id": "5e408a74",
   "metadata": {},
   "outputs": [
    {
     "data": {
      "text/plain": [
       "3-element Vector{ComplexF64}:\n",
       " 0.38272559780771487 - 3.3288554009364555im\n",
       " 0.38272559780771487 + 3.3288554009364555im\n",
       "    6.23454880438457 + 0.0im"
      ]
     },
     "metadata": {},
     "output_type": "display_data"
    }
   ],
   "source": [
    "# Check if M is Hermitian from its eigenvalues\n",
    "eigvals(M)"
   ]
  },
  {
   "cell_type": "code",
   "execution_count": 17,
   "id": "b91185b9",
   "metadata": {},
   "outputs": [
    {
     "data": {
      "text/plain": [
       "false"
      ]
     },
     "metadata": {},
     "output_type": "display_data"
    }
   ],
   "source": [
    "# Check if M is Hermitian\n",
    "herm = ishermitian(M)"
   ]
  },
  {
   "cell_type": "code",
   "execution_count": 18,
   "id": "7f6abbd8",
   "metadata": {},
   "outputs": [
    {
     "data": {
      "text/plain": [
       "false"
      ]
     },
     "metadata": {},
     "output_type": "display_data"
    }
   ],
   "source": [
    "# Check if M is skew Hermitian\n",
    "skew = ishermitian(im * M)"
   ]
  },
  {
   "cell_type": "code",
   "execution_count": 19,
   "id": "8c742099",
   "metadata": {},
   "outputs": [
    {
     "name": "stdout",
     "output_type": "stream",
     "text": [
      "\u001b[1m3×3 DataFrame\u001b[0m\n",
      "\u001b[1m Row \u001b[0m│\u001b[1m x1    \u001b[0m\u001b[1m x2    \u001b[0m\u001b[1m x3    \u001b[0m\n",
      "     │\u001b[90m Int64 \u001b[0m\u001b[90m Int64 \u001b[0m\u001b[90m Int64 \u001b[0m\n",
      "─────┼─────────────────────\n",
      "   1 │    14      9     11\n",
      "   2 │     9     26      8\n",
      "   3 │    11      8     26"
     ]
    }
   ],
   "source": [
    "uni_df = DataFrame(M_H * M, :auto)\n",
    "show(uni_df, allrows=true, allcols=true)"
   ]
  },
  {
   "cell_type": "code",
   "execution_count": 20,
   "id": "2e585028",
   "metadata": {},
   "outputs": [
    {
     "data": {
      "text/plain": [
       "false"
      ]
     },
     "metadata": {},
     "output_type": "display_data"
    }
   ],
   "source": [
    "# Check if M is unitary\n",
    "unitary = (M_H * M == I(4))"
   ]
  },
  {
   "cell_type": "code",
   "execution_count": 21,
   "id": "6288259e",
   "metadata": {},
   "outputs": [
    {
     "name": "stdout",
     "output_type": "stream",
     "text": [
      "\u001b[1m3×3 DataFrame\u001b[0m\n",
      "\u001b[1m Row \u001b[0m│\u001b[1m x1                 \u001b[0m\u001b[1m x2                 \u001b[0m\u001b[1m x3            \u001b[0m\n",
      "     │\u001b[90m Complex…           \u001b[0m\u001b[90m Complex…           \u001b[0m\u001b[90m Complex…      \u001b[0m\n",
      "─────┼───────────────────────────────────────────────────────\n",
      "   1 │ 0.382726-3.32886im       0.0+0.0im          0.0+0.0im\n",
      "   2 │      0.0+0.0im      0.382726+3.32886im      0.0+0.0im\n",
      "   3 │      0.0+0.0im           0.0+0.0im      6.23455+0.0im"
     ]
    }
   ],
   "source": [
    "# Diagonalize M, round eigenvalues less than 1e-10 to 0\n",
    "D, P = eigen(M)\n",
    "P_inv = inv(P)\n",
    "D_matrix = Diagonal(D)\n",
    "\n",
    "# Display D as a dataframe\n",
    "D_df = DataFrame(D_matrix, :auto)\n",
    "show(D_df, allrows=true, allcols=true)"
   ]
  },
  {
   "cell_type": "code",
   "execution_count": 22,
   "id": "72a07e43",
   "metadata": {},
   "outputs": [
    {
     "name": "stdout",
     "output_type": "stream",
     "text": [
      "\u001b[1m3×3 DataFrame\u001b[0m\n",
      "\u001b[1m Row \u001b[0m│\u001b[1m x1                  \u001b[0m\u001b[1m x2                  \u001b[0m\u001b[1m x3              \u001b[0m\n",
      "     │\u001b[90m Complex…            \u001b[0m\u001b[90m Complex…            \u001b[0m\u001b[90m Complex…        \u001b[0m\n",
      "─────┼───────────────────────────────────────────────────────────\n",
      "   1 │ -0.70939-0.0im       -0.70939+0.0im       -0.564603+0.0im\n",
      "   2 │ 0.165745+0.530922im  0.165745-0.530922im  -0.326566+0.0im\n",
      "   3 │ 0.318554-0.293155im  0.318554+0.293155im  -0.758009+0.0im"
     ]
    }
   ],
   "source": [
    "P_df = DataFrame(P, :auto)\n",
    "show(P_df, allrows=true, allcols=true)"
   ]
  },
  {
   "cell_type": "code",
   "execution_count": 23,
   "id": "064dc4ce",
   "metadata": {},
   "outputs": [
    {
     "name": "stdout",
     "output_type": "stream",
     "text": [
      "\u001b[1m3×3 DataFrame\u001b[0m\n",
      "\u001b[1m Row \u001b[0m│\u001b[1m x1                      \u001b[0m\u001b[1m x2                     \u001b[0m\u001b[1m x3                     \u001b[0m\n",
      "     │\u001b[90m Complex…                \u001b[0m\u001b[90m Complex…               \u001b[0m\u001b[90m Complex…               \u001b[0m\n",
      "─────┼─────────────────────────────────────────────────────────────────────────\n",
      "   1 │ -0.522939-0.0226809im     0.173743-0.753246im    0.314659+0.341407im\n",
      "   2 │ -0.522939+0.0226809im     0.173743+0.753246im    0.314659-0.341407im\n",
      "   3 │ -0.457075-6.76159e-18im  -0.436594-7.3677e-18im   -0.7907+1.47603e-17im"
     ]
    }
   ],
   "source": [
    "P_inv_df = DataFrame(P_inv, :auto)\n",
    "show(P_inv_df, allrows=true, allcols=true)"
   ]
  },
  {
   "cell_type": "code",
   "execution_count": 24,
   "id": "6e2af7b1",
   "metadata": {},
   "outputs": [
    {
     "name": "stdout",
     "output_type": "stream",
     "text": [
      "\u001b[1m3×3 DataFrame\u001b[0m\n",
      "\u001b[1m Row \u001b[0m│\u001b[1m x1                      \u001b[0m\u001b[1m x2                      \u001b[0m\u001b[1m x3                      \u001b[0m\n",
      "     │\u001b[90m Complex…                \u001b[0m\u001b[90m Complex…                \u001b[0m\u001b[90m Complex…                \u001b[0m\n",
      "─────┼───────────────────────────────────────────────────────────────────────────\n",
      "   1 │ 7.80249e78+1.15424e62im  7.45288e78+1.2577e62im   1.34976e79-2.51966e62im\n",
      "   2 │ 4.51295e78+6.67609e61im  4.31074e78+7.27455e61im  7.80702e78-1.45737e62im\n",
      "   3 │ 1.04753e79+1.54962e62im  1.00059e79+1.68853e62im  1.81213e79-3.38277e62im"
     ]
    }
   ],
   "source": [
    "# Calculate M^n\n",
    "n = 100\n",
    "M_n = P * (D_matrix^n) * P_inv\n",
    "\n",
    "# Show M_n as a dataframe\n",
    "M_n_df = DataFrame(M_n, :auto)\n",
    "show(M_n_df, allrows=true, allcols=true)"
   ]
  },
  {
   "cell_type": "code",
   "execution_count": 25,
   "id": "257e67c1",
   "metadata": {},
   "outputs": [
    {
     "name": "stdout",
     "output_type": "stream",
     "text": [
      "Method used: Fallback (caught error): exp(M)\n",
      "‖exp_spectral - exp(M)‖₂ = 0.0\n",
      "\u001b[1m3×3 DataFrame\u001b[0m\n",
      "\u001b[1m Row \u001b[0m│\u001b[1m x1       \u001b[0m\u001b[1m x2       \u001b[0m\u001b[1m x3      \u001b[0m\n",
      "     │\u001b[90m Float64  \u001b[0m\u001b[90m Float64  \u001b[0m\u001b[90m Float64 \u001b[0m\n",
      "─────┼─────────────────────────────\n",
      "   1 │ 130.554   125.797   228.487\n",
      "   2 │  76.5043   71.5067  131.958\n",
      "   3 │ 177.142   169.439   305.128"
     ]
    }
   ],
   "source": [
    "\"\"\"\n",
    "    exp_spectral(M; atol=1e-10, rtol=1e-10)\n",
    "\n",
    "Compute exp(M) using the spectral route chosen by classification:\n",
    "- Hermitian:  M = U*Λ*U', exp(M) = U*exp.(Λ)*U'\n",
    "- Skew-Hermitian: M = iH with H Hermitian, so exp(M) = U*exp.(i*Λ)*U'\n",
    "- Normal (else): diagonalizable by eigenvectors V, exp(M) = V*exp.(Λ)*inv(V)\n",
    "Falls back to LinearAlgebra.exp(M) if something goes sideways.\n",
    "Returns (expM, method::String).\n",
    "\"\"\"\n",
    "function exp_spectral(M; atol=1e-10, rtol=1e-10)\n",
    "    try\n",
    "        if ishermitian(M)\n",
    "            F = eigen(Hermitian(M))\n",
    "            return (F.vectors * Diagonal(exp.(F.values)) * F.vectors', \"Hermitian spectral\")\n",
    "        elseif skew\n",
    "            H = (-1im) * M                         # H Hermitian\n",
    "            F = eigen(Hermitian(H))\n",
    "            return (F.vectors * Diagonal(exp.(1im .* F.values)) * F.vectors', \"Skew-Hermitian via H\")\n",
    "        elseif is_normal(M; atol=atol, rtol=rtol)\n",
    "            # Normal ⇒ diagonalizable. eigen(M) is fine; V needn't be unitary.\n",
    "            F = eigen(M)\n",
    "            return (F.vectors * Diagonal(exp.(F.values)) * inv(F.vectors), \"Normal spectral\")\n",
    "        else\n",
    "            # Not safely spectral; fall back\n",
    "            return (exp(M), \"Fallback: exp(M)\")\n",
    "        end\n",
    "    catch\n",
    "        # Any numerical hiccup → robust fallback\n",
    "        return (exp(M), \"Fallback (caught error): exp(M)\")\n",
    "    end\n",
    "end\n",
    "\n",
    "# --------------------------\n",
    "# Drive it\n",
    "# --------------------------\n",
    "expM, how = exp_spectral(M)\n",
    "println(\"Method used: \", how)\n",
    "\n",
    "# sanity check against built-in exp\n",
    "println(\"‖exp_spectral - exp(M)‖₂ = \", norm(expM - exp(M)))\n",
    "\n",
    "# Show exp(M) as a dataframe\n",
    "expM_df = DataFrame(expM, :auto)\n",
    "show(expM_df, allrows=true, allcols=true)"
   ]
  },
  {
   "cell_type": "code",
   "execution_count": 26,
   "id": "75de010d",
   "metadata": {},
   "outputs": [],
   "source": [
    "# u = ComplexF64[1, 0, -3, 2]\n",
    "# println(\"‖u‖₂ = \", norm(u), \"  ‖e^M u‖₂ = \", norm(expM * u))"
   ]
  }
 ],
 "metadata": {
  "kernelspec": {
   "display_name": "Julia 1.11.5",
   "language": "julia",
   "name": "julia-1.11"
  },
  "language_info": {
   "file_extension": ".jl",
   "mimetype": "application/julia",
   "name": "julia",
   "version": "1.11.5"
  }
 },
 "nbformat": 4,
 "nbformat_minor": 5
}
