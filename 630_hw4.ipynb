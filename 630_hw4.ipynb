{
 "cells": [
  {
   "cell_type": "code",
   "execution_count": 24,
   "id": "f88486af",
   "metadata": {},
   "outputs": [
    {
     "data": {
      "text/plain": [
       "4×4 Matrix{Complex{Int64}}:\n",
       "  0+2im   2+0im  1-2im   0-5im\n",
       " -2+0im   0-3im  2+1im   0+0im\n",
       " -1-2im  -2+1im  0+0im  -5+0im\n",
       "  0-5im   0+0im  5+0im   0-4im"
      ]
     },
     "metadata": {},
     "output_type": "display_data"
    }
   ],
   "source": [
    "using LinearAlgebra\n",
    "\n",
    "M = [2*im 2 1-2*im -5*im; \n",
    "     -2 -3*im 2+im 0; \n",
    "     -1-2*im -2+im 0 -5; \n",
    "     -5*im 0 5 -4*im]"
   ]
  },
  {
   "cell_type": "code",
   "execution_count": null,
   "id": "d37598b2",
   "metadata": {},
   "outputs": [
    {
     "data": {
      "text/plain": [
       "4×4 Matrix{Complex{Int64}}:\n",
       " 0-2im  -2+0im  -1+2im  0+5im\n",
       " 2+0im   0+3im  -2-1im  0+0im\n",
       " 1+2im   2-1im   0+0im  5+0im\n",
       " 0+5im   0+0im  -5+0im  0+4im"
      ]
     },
     "metadata": {},
     "output_type": "display_data"
    }
   ],
   "source": [
    "# Complex conjugate transpose of M\n",
    "M_conj_trans = copy(M)\n",
    "\n",
    "for i in 1:4\n",
    "    for j in 1:4\n",
    "        M_conj_trans[i,j] = conj(M[j,i])\n",
    "    end\n",
    "end\n",
    "\n",
    "M_conj_trans"
   ]
  },
  {
   "cell_type": "code",
   "execution_count": null,
   "id": "5e408a74",
   "metadata": {},
   "outputs": [
    {
     "data": {
      "text/plain": [
       "4-element Vector{ComplexF64}:\n",
       " -1.0688708680128474e-16 + 2.0213903268750038im\n",
       "                     0.0 + 6.648024680981731im\n",
       "  1.1834752277748514e-16 - 4.069631043958018im\n",
       "  1.7763568394002505e-15 - 9.599783963898721im"
      ]
     },
     "metadata": {},
     "output_type": "display_data"
    }
   ],
   "source": [
    "# Check if M is Hermitian from its eigenvalues\n",
    "eigvals(M)"
   ]
  },
  {
   "cell_type": "code",
   "execution_count": null,
   "id": "b91185b9",
   "metadata": {},
   "outputs": [
    {
     "data": {
      "text/plain": [
       "false"
      ]
     },
     "metadata": {},
     "output_type": "display_data"
    }
   ],
   "source": [
    "# Check if M is Hermitian\n",
    "M == M_conj_trans"
   ]
  },
  {
   "cell_type": "code",
   "execution_count": null,
   "id": "7f6abbd8",
   "metadata": {},
   "outputs": [
    {
     "data": {
      "text/plain": [
       "true"
      ]
     },
     "metadata": {},
     "output_type": "display_data"
    }
   ],
   "source": [
    "# Check if M is skew Hermitian\n",
    "M_conj_trans == -M"
   ]
  },
  {
   "cell_type": "code",
   "execution_count": null,
   "id": "2e585028",
   "metadata": {},
   "outputs": [
    {
     "data": {
      "text/plain": [
       "false"
      ]
     },
     "metadata": {},
     "output_type": "display_data"
    }
   ],
   "source": [
    "# Check if M is unitary\n",
    "M_conj_trans * M == I(4)"
   ]
  },
  {
   "cell_type": "code",
   "execution_count": 35,
   "id": "364fd271",
   "metadata": {},
   "outputs": [
    {
     "data": {
      "text/plain": [
       "4-element Vector{ComplexF64}:\n",
       " -1.0688708680128474e-16 + 2.0213903268750038im\n",
       "                     0.0 + 6.648024680981731im\n",
       "  1.1834752277748514e-16 - 4.069631043958018im\n",
       "  1.7763568394002505e-15 - 9.599783963898721im"
      ]
     },
     "metadata": {},
     "output_type": "display_data"
    }
   ],
   "source": [
    "# Diagonalize M\n",
    "eig = eigen(M)\n",
    "eig.values, eig.vectors\n",
    "D = Diagonal(eig.values)\n",
    "P = eig.vectors\n",
    "P_inv = inv(P)\n",
    "\n",
    "# M to the power of 100 via diagonalization\n",
    "M_100 = P * D^100 * P_inv\n",
    "\n",
    "eig.values"
   ]
  },
  {
   "cell_type": "code",
   "execution_count": 39,
   "id": "c0716174",
   "metadata": {},
   "outputs": [
    {
     "data": {
      "text/plain": [
       "4×4 Matrix{ComplexF64}:\n",
       "   0.127753+0.518246im   -0.145611-0.22725im    …   -0.685959-0.230507im\n",
       " -0.0315899+0.252789im   -0.507099+0.776628im       0.0244453-0.185147im\n",
       "  -0.653158+0.0204687im  0.0237035+0.21709im       0.00196948+0.334425im\n",
       "  -0.459729+0.1087im       0.13756-0.0155437im      -0.460936+0.342262im"
      ]
     },
     "metadata": {},
     "output_type": "display_data"
    }
   ],
   "source": [
    "exp(M)"
   ]
  }
 ],
 "metadata": {
  "kernelspec": {
   "display_name": "Julia 1.11.5",
   "language": "julia",
   "name": "julia-1.11"
  },
  "language_info": {
   "file_extension": ".jl",
   "mimetype": "application/julia",
   "name": "julia",
   "version": "1.11.5"
  }
 },
 "nbformat": 4,
 "nbformat_minor": 5
}
