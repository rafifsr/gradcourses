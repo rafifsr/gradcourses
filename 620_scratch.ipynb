{
 "cells": [
  {
   "cell_type": "code",
   "execution_count": null,
   "id": "3ac8b095",
   "metadata": {},
   "outputs": [
    {
     "data": {
      "text/plain": [
       "Eigen{ComplexF64, ComplexF64, Matrix{ComplexF64}, Vector{ComplexF64}}\n",
       "values:\n",
       "3-element Vector{ComplexF64}:\n",
       " 0.0 - 1.0im\n",
       " 0.0 + 0.0im\n",
       " 0.0 + 1.0im\n",
       "vectors:\n",
       "3×3 Matrix{ComplexF64}:\n",
       "      0.0-0.0im       1.0+0.0im       0.0+0.0im\n",
       " 0.707107-0.0im       0.0+0.0im  0.707107+0.0im\n",
       "      0.0-0.707107im  0.0+0.0im       0.0+0.707107im"
      ]
     },
     "metadata": {},
     "output_type": "display_data"
    }
   ],
   "source": [
    "using LinearAlgebra\n",
    "\n",
    "T = [0 0 0; \n",
    "     0 0 1; \n",
    "     0 -1 0]\n",
    "\n",
    "# Right eigenvectors\n",
    "eigen(T)"
   ]
  },
  {
   "cell_type": "code",
   "execution_count": 4,
   "id": "5d2defe7",
   "metadata": {},
   "outputs": [
    {
     "data": {
      "text/plain": [
       "Eigen{ComplexF64, ComplexF64, Matrix{ComplexF64}, Vector{ComplexF64}}\n",
       "values:\n",
       "3-element Vector{ComplexF64}:\n",
       " 0.0 - 1.0im\n",
       " 0.0 + 0.0im\n",
       " 0.0 + 1.0im\n",
       "vectors:\n",
       "3×3 Matrix{ComplexF64}:\n",
       "      0.0-0.0im       1.0+0.0im       0.0+0.0im\n",
       " 0.707107-0.0im       0.0+0.0im  0.707107+0.0im\n",
       "      0.0+0.707107im  0.0+0.0im       0.0-0.707107im"
      ]
     },
     "metadata": {},
     "output_type": "display_data"
    }
   ],
   "source": [
    "# Left eigenvectors\n",
    "eigen(T')"
   ]
  },
  {
   "cell_type": "code",
   "execution_count": 5,
   "id": "26683d3d",
   "metadata": {},
   "outputs": [
    {
     "data": {
      "text/plain": [
       "3×3 adjoint(::Matrix{Int64}) with eltype Int64:\n",
       " 0  0   0\n",
       " 0  0  -1\n",
       " 0  1   0"
      ]
     },
     "metadata": {},
     "output_type": "display_data"
    }
   ],
   "source": [
    "T'"
   ]
  }
 ],
 "metadata": {
  "kernelspec": {
   "display_name": "Julia 1.11.5",
   "language": "julia",
   "name": "julia-1.11"
  },
  "language_info": {
   "file_extension": ".jl",
   "mimetype": "application/julia",
   "name": "julia",
   "version": "1.11.5"
  }
 },
 "nbformat": 4,
 "nbformat_minor": 5
}
