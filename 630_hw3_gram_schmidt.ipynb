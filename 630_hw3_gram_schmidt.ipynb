{
 "cells": [
  {
   "cell_type": "code",
   "execution_count": 3,
   "id": "a61bdb35",
   "metadata": {},
   "outputs": [
    {
     "data": {
      "text/plain": [
       "3-element Vector{Any}:\n",
       " [1, 1, 1]\n",
       " [6.0, -4.0, -2.0]\n",
       " [0.5952380952380956, 2.3809523809523805, -2.9761904761904763]"
      ]
     },
     "metadata": {},
     "output_type": "display_data"
    }
   ],
   "source": [
    "using LinearAlgebra\n",
    "\n",
    "u1 = [1, 1, 1]\n",
    "u2 = [9, -1, 1]\n",
    "u3 = [-1, 4, -2]\n",
    "\n",
    "function gram_schmidt(U)\n",
    "    Q = []\n",
    "    for u in U\n",
    "        q = u\n",
    "        for v in Q\n",
    "            q -= (v ⋅ u) / (v ⋅ v) * v\n",
    "        end\n",
    "        push!(Q, q)\n",
    "    end\n",
    "    return Q\n",
    "end\n",
    "\n",
    "U = [u1, u2, u3]\n",
    "Q = gram_schmidt(U)"
   ]
  },
  {
   "cell_type": "code",
   "execution_count": 4,
   "id": "c7c3ff29",
   "metadata": {},
   "outputs": [
    {
     "data": {
      "text/plain": [
       "3-element Vector{Any}:\n",
       " [4, 0, 2, -1]\n",
       " [1.0476190476190477, 1.0, -1.4761904761904763, 1.2380952380952381]\n",
       " [-0.016393442622950727, 0.3934426229508198, -0.29508196721311486, -0.6557377049180327]"
      ]
     },
     "metadata": {},
     "output_type": "display_data"
    }
   ],
   "source": [
    "b1 = [4, 0, 2, -1]\n",
    "b2 = [2, 1, -1, 1]\n",
    "b3 = [1, 1, -1, 0]\n",
    "B = [b1, b2, b3]\n",
    "Q2 = gram_schmidt(B)"
   ]
  }
 ],
 "metadata": {
  "kernelspec": {
   "display_name": "Julia 1.11.5",
   "language": "julia",
   "name": "julia-1.11"
  },
  "language_info": {
   "file_extension": ".jl",
   "mimetype": "application/julia",
   "name": "julia",
   "version": "1.11.5"
  }
 },
 "nbformat": 4,
 "nbformat_minor": 5
}
