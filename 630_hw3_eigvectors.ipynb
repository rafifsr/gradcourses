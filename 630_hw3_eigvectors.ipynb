{
 "cells": [
  {
   "cell_type": "code",
   "execution_count": 2,
   "id": "c5ac1d3e",
   "metadata": {},
   "outputs": [
    {
     "data": {
      "text/plain": [
       "4×4 Matrix{Float64}:\n",
       "  0.707107   0.0       0.707107  0.0\n",
       " -0.707107   0.0       0.707107  0.0\n",
       "  0.0        0.707107  0.0       0.707107\n",
       "  0.0       -0.707107  0.0       0.707107"
      ]
     },
     "metadata": {},
     "output_type": "display_data"
    }
   ],
   "source": [
    "using LinearAlgebra\n",
    "\n",
    "A = [1 2 0 0; 2 1 0 0; 0 0 1 2; 0 0 2 1]\n",
    "eigen_decomp = eigen(A)\n",
    "Q = eigen_decomp.vectors"
   ]
  }
 ],
 "metadata": {
  "kernelspec": {
   "display_name": "Julia 1.11.5",
   "language": "julia",
   "name": "julia-1.11"
  },
  "language_info": {
   "file_extension": ".jl",
   "mimetype": "application/julia",
   "name": "julia",
   "version": "1.11.5"
  }
 },
 "nbformat": 4,
 "nbformat_minor": 5
}
